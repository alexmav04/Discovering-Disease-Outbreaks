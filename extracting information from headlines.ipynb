{
 "cells": [
  {
   "cell_type": "code",
   "execution_count": 1,
   "id": "fb9e102b",
   "metadata": {},
   "outputs": [],
   "source": [
    "import geonamescache\n",
    "from collections import Counter\n",
    "import unidecode\n",
    "import re\n",
    "import json\n",
    "\n",
    "with open(\"./data/headlines.txt\", encoding=\"utf-8\") as file:\n",
    "    data = [headline.strip() for headline in file]\n",
    "data = [unidecode.unidecode(headline) for headline in data]"
   ]
  },
  {
   "cell_type": "code",
   "execution_count": 2,
   "id": "16e5882d",
   "metadata": {},
   "outputs": [],
   "source": [
    "gc1 = geonamescache.GeonamesCache()\n",
    "countries = [country[\"name\"] for country in gc1.get_countries().values()]\n",
    "cities = [city[\"name\"] for city in gc1.get_cities().values()]\n",
    "\n",
    "country_accent_mapping = {\n",
    "    unidecode.unidecode(country): country for country in countries\n",
    "}\n",
    "city_accent_mapping = {\n",
    "    unidecode.unidecode(city): city for city in cities\n",
    "}\n",
    "\n",
    "unaccented_cities = list(city_accent_mapping.keys())\n",
    "unaccented_countries = list(country_accent_mapping.keys())\n",
    "\n",
    "# sort cities and countries by length\n",
    "unaccented_cities = sorted(unaccented_cities, key=lambda x: len(x), reverse=True)\n",
    "unaccented_countries = sorted(unaccented_countries, key=lambda x: len(x), reverse=True)"
   ]
  },
  {
   "cell_type": "code",
   "execution_count": 3,
   "id": "5ab33f9f",
   "metadata": {},
   "outputs": [],
   "source": [
    "country_reg = r\"\\b|\\b\".join(unaccented_countries)\n",
    "city_reg = r'\\b|\\b'.join(unaccented_cities)\n",
    "\n",
    "## Find the citys or countrys in a text headline.\n",
    "def find_in_headline(headline):\n",
    "    country_match = re.search(country_reg, headline)\n",
    "    city_match = re.search(city_reg, headline)\n",
    "    countries = None if not country_match else country_match.group(0)\n",
    "    cities = None if not city_match else city_match.group(0)\n",
    "    return dict(headline=headline, countries=countries, cities=cities)\n",
    "\n",
    "## apply to all headlines\n",
    "headline_countries_cities = [\n",
    "    find_in_headline(headline) for headline in data\n",
    "]"
   ]
  },
  {
   "cell_type": "code",
   "execution_count": 4,
   "id": "aab538af",
   "metadata": {},
   "outputs": [
    {
     "ename": "NameError",
     "evalue": "name 'headline_cities_and_countries' is not defined",
     "output_type": "error",
     "traceback": [
      "\u001b[1;31m---------------------------------------------------------------------------\u001b[0m",
      "\u001b[1;31mNameError\u001b[0m                                 Traceback (most recent call last)",
      "\u001b[1;32m~\\AppData\\Local\\Temp\\ipykernel_13500\\1566298091.py\u001b[0m in \u001b[0;36m<module>\u001b[1;34m\u001b[0m\n\u001b[0;32m      1\u001b[0m \u001b[0msave_file\u001b[0m \u001b[1;33m=\u001b[0m \u001b[1;34m\"./data/headline_countries_cities.json\"\u001b[0m\u001b[1;33m\u001b[0m\u001b[1;33m\u001b[0m\u001b[0m\n\u001b[0;32m      2\u001b[0m \u001b[1;32mwith\u001b[0m \u001b[0mopen\u001b[0m\u001b[1;33m(\u001b[0m\u001b[0msave_file\u001b[0m\u001b[1;33m,\u001b[0m \u001b[1;34m\"w\"\u001b[0m\u001b[1;33m)\u001b[0m \u001b[1;32mas\u001b[0m \u001b[0mfile\u001b[0m\u001b[1;33m:\u001b[0m\u001b[1;33m\u001b[0m\u001b[1;33m\u001b[0m\u001b[0m\n\u001b[1;32m----> 3\u001b[1;33m     \u001b[0mfile\u001b[0m\u001b[1;33m.\u001b[0m\u001b[0mwrite\u001b[0m\u001b[1;33m(\u001b[0m\u001b[0mjson\u001b[0m\u001b[1;33m.\u001b[0m\u001b[0mdumps\u001b[0m\u001b[1;33m(\u001b[0m\u001b[0mheadline_cities_and_countries\u001b[0m\u001b[1;33m)\u001b[0m\u001b[1;33m)\u001b[0m\u001b[1;33m\u001b[0m\u001b[1;33m\u001b[0m\u001b[0m\n\u001b[0m\u001b[0;32m      4\u001b[0m \u001b[1;33m\u001b[0m\u001b[0m\n\u001b[0;32m      5\u001b[0m \u001b[1;32mwith\u001b[0m \u001b[0mopen\u001b[0m\u001b[1;33m(\u001b[0m\u001b[1;34m\"./data/country_accent_mapping.json\"\u001b[0m\u001b[1;33m,\u001b[0m \u001b[1;34m\"w\"\u001b[0m\u001b[1;33m)\u001b[0m \u001b[1;32mas\u001b[0m \u001b[0mfile\u001b[0m\u001b[1;33m:\u001b[0m\u001b[1;33m\u001b[0m\u001b[1;33m\u001b[0m\u001b[0m\n",
      "\u001b[1;31mNameError\u001b[0m: name 'headline_cities_and_countries' is not defined"
     ]
    }
   ],
   "source": [
    "save_file = \"./data/headline_countries_cities.json\"\n",
    "with open(save_file, \"w\") as file:\n",
    "    file.write(json.dumps(headline_cities_and_countries))\n",
    "    \n",
    "with open(\"./data/country_accent_mapping.json\", \"w\") as file:\n",
    "    file.write(json.dumps(country_accent_mapping))    \n",
    "    \n",
    "with open(\"./data/city_accent_mapping.json\", \"w\") as file:\n",
    "    file.write(json.dumps(city_accent_mapping))"
   ]
  }
 ],
 "metadata": {
  "kernelspec": {
   "display_name": "DDO",
   "language": "python",
   "name": "discovering-disease-outbreaks"
  },
  "language_info": {
   "codemirror_mode": {
    "name": "ipython",
    "version": 3
   },
   "file_extension": ".py",
   "mimetype": "text/x-python",
   "name": "python",
   "nbconvert_exporter": "python",
   "pygments_lexer": "ipython3",
   "version": "3.7.13"
  }
 },
 "nbformat": 4,
 "nbformat_minor": 5
}
